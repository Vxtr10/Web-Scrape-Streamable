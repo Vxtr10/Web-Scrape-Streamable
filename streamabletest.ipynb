{
 "cells": [
  {
   "cell_type": "code",
   "execution_count": 87,
   "metadata": {},
   "outputs": [],
   "source": [
    "from selenium import webdriver\n",
    "from selenium.webdriver.common.keys import Keys\n",
    "from selenium.webdriver.chrome.service import Service\n",
    "from selenium.webdriver.chrome.options import Options\n",
    "from webdriver_manager.chrome import ChromeDriverManager\n",
    "import time\n",
    "from selenium.webdriver.common.by import By\n",
    "import os\n",
    "import shutil\n",
    "import glob"
   ]
  },
  {
   "cell_type": "code",
   "execution_count": 199,
   "metadata": {},
   "outputs": [
    {
     "name": "stderr",
     "output_type": "stream",
     "text": [
      "/var/folders/dr/g848f5b55mn9xp6p982hbg280000gn/T/ipykernel_77666/2981729739.py:4: DeprecationWarning: executable_path has been deprecated, please pass in a Service object\n",
      "  driver = webdriver.Chrome(r\"/Users/victor/Downloads/chromedriver-mac-arm64/chromedriver\", chrome_options=options)\n",
      "/var/folders/dr/g848f5b55mn9xp6p982hbg280000gn/T/ipykernel_77666/2981729739.py:4: DeprecationWarning: use options instead of chrome_options\n",
      "  driver = webdriver.Chrome(r\"/Users/victor/Downloads/chromedriver-mac-arm64/chromedriver\", chrome_options=options)\n"
     ]
    }
   ],
   "source": [
    "# Replace 'path_to_webdriver' with the path to your WebDriver executable\n",
    "options = webdriver.ChromeOptions()\n",
    "options.binary_location = \"/Applications/Google Chrome.app/Contents/MacOS/Google Chrome\"\n",
    "driver = webdriver.Chrome(r\"/Users/victor/Downloads/chromedriver-mac-arm64/chromedriver\", chrome_options=options)\n"
   ]
  },
  {
   "cell_type": "code",
   "execution_count": 201,
   "metadata": {},
   "outputs": [],
   "source": [
    "driver.get(\"https://streamable.com/login\")"
   ]
  },
  {
   "cell_type": "code",
   "execution_count": 202,
   "metadata": {},
   "outputs": [],
   "source": [
    "\n",
    "username = \"\"\n",
    "password = \"\"\n",
    "username_field = driver.find_element(By.XPATH, '//*[@id=\"root\"]/div/div[1]/div/form/div[1]/input').send_keys(username)\n",
    "password_field = driver.find_element(By.XPATH, '//*[@id=\"root\"]/div/div[1]/div/form/div[2]/input').send_keys(password)\n",
    "sign_in_button = driver.find_element(By.XPATH, '//*[@id=\"root\"]/div/div[1]/div/form/button').click()"
   ]
  },
  {
   "cell_type": "code",
   "execution_count": 182,
   "metadata": {},
   "outputs": [],
   "source": [
    "for i in range(1,29):\n",
    "    driver.get(\"https://streamable.com/?page=\"+str(i))\n",
    "    time.sleep(2)\n",
    "    buttons = driver.find_elements(By.CSS_SELECTOR, \"button[data-draggable]\")\n",
    "    newbuttons = buttons[1:]\n",
    "    for button in newbuttons:\n",
    "        button.click()\n",
    "        finddownloadbutton = driver.find_elements(By.CLASS_NAME, \"action-button-content\")[3]\n",
    "        finddownloadbutton.click()\n",
    "        clickonDownload = driver.find_elements(By.XPATH, '//*[contains(@href, \"#\")]')[0]\n",
    "        clickonDownload.click()\n",
    "        time.sleep(1)\n",
    "        exitbutton = driver.find_element(By.CLASS_NAME, 'close').click()\n"
   ]
  },
  {
   "cell_type": "code",
   "execution_count": 198,
   "metadata": {},
   "outputs": [],
   "source": [
    "files = glob.glob(os.path.join(\"/Users/victor/Desktop/clips/tarkov\", '*.mp4'))   \n",
    "\n",
    "files.sort(key=os.path.getmtime)\n",
    "\n",
    "files\n"
   ]
  }
 ],
 "metadata": {
  "kernelspec": {
   "display_name": "Python 3.8.13 ('NLP_env')",
   "language": "python",
   "name": "python3"
  },
  "language_info": {
   "codemirror_mode": {
    "name": "ipython",
    "version": 3
   },
   "file_extension": ".py",
   "mimetype": "text/x-python",
   "name": "python",
   "nbconvert_exporter": "python",
   "pygments_lexer": "ipython3",
   "version": "3.8.13"
  },
  "orig_nbformat": 4,
  "vscode": {
   "interpreter": {
    "hash": "6271ad5a9cfee5fbc27e23facc018ff52eb81071ca31a423a1af489ce9841234"
   }
  }
 },
 "nbformat": 4,
 "nbformat_minor": 2
}
